{
 "cells": [
  {
   "cell_type": "code",
   "execution_count": 1,
   "id": "84091ffc",
   "metadata": {},
   "outputs": [],
   "source": [
    "import pandas as pd\n",
    "import numpy as np\n",
    "import seaborn as sns\n",
    "import matplotlib.pyplot as plt\n",
    "import warnings\n",
    "warnings.filterwarnings('ignore')"
   ]
  },
  {
   "cell_type": "code",
   "execution_count": 2,
   "id": "b25b6d06",
   "metadata": {},
   "outputs": [],
   "source": [
    "df=pd.read_csv(\"cars24data.csv\")"
   ]
  },
  {
   "cell_type": "code",
   "execution_count": 3,
   "id": "432905c3",
   "metadata": {},
   "outputs": [
    {
     "data": {
      "text/html": [
       "<div>\n",
       "<style scoped>\n",
       "    .dataframe tbody tr th:only-of-type {\n",
       "        vertical-align: middle;\n",
       "    }\n",
       "\n",
       "    .dataframe tbody tr th {\n",
       "        vertical-align: top;\n",
       "    }\n",
       "\n",
       "    .dataframe thead th {\n",
       "        text-align: right;\n",
       "    }\n",
       "</style>\n",
       "<table border=\"1\" class=\"dataframe\">\n",
       "  <thead>\n",
       "    <tr style=\"text-align: right;\">\n",
       "      <th></th>\n",
       "      <th>Unnamed: 0</th>\n",
       "      <th>name</th>\n",
       "      <th>selling_price</th>\n",
       "      <th>km_driven</th>\n",
       "      <th>fuel</th>\n",
       "      <th>transmission</th>\n",
       "    </tr>\n",
       "  </thead>\n",
       "  <tbody>\n",
       "    <tr>\n",
       "      <th>0</th>\n",
       "      <td>0</td>\n",
       "      <td>2014 Maruti Swift Dzire</td>\n",
       "      <td>3,54,799</td>\n",
       "      <td>76,013 km</td>\n",
       "      <td>Diesel</td>\n",
       "      <td>Manual</td>\n",
       "    </tr>\n",
       "    <tr>\n",
       "      <th>1</th>\n",
       "      <td>1</td>\n",
       "      <td>2015 Tata Nano</td>\n",
       "      <td>1,87,999</td>\n",
       "      <td>39,703 km</td>\n",
       "      <td>Petrol</td>\n",
       "      <td>Manual</td>\n",
       "    </tr>\n",
       "    <tr>\n",
       "      <th>2</th>\n",
       "      <td>2</td>\n",
       "      <td>2012 Maruti Swift</td>\n",
       "      <td>2,60,099</td>\n",
       "      <td>1,20,326 km</td>\n",
       "      <td>Diesel</td>\n",
       "      <td>Manual</td>\n",
       "    </tr>\n",
       "    <tr>\n",
       "      <th>3</th>\n",
       "      <td>3</td>\n",
       "      <td>2012 Maruti Swift</td>\n",
       "      <td>2,82,099</td>\n",
       "      <td>68,206 km</td>\n",
       "      <td>Diesel</td>\n",
       "      <td>Manual</td>\n",
       "    </tr>\n",
       "    <tr>\n",
       "      <th>4</th>\n",
       "      <td>4</td>\n",
       "      <td>2015 Tata Nano</td>\n",
       "      <td>1,85,999</td>\n",
       "      <td>43,402 km</td>\n",
       "      <td>Petrol</td>\n",
       "      <td>Manual</td>\n",
       "    </tr>\n",
       "  </tbody>\n",
       "</table>\n",
       "</div>"
      ],
      "text/plain": [
       "   Unnamed: 0                     name selling_price    km_driven    fuel  \\\n",
       "0           0  2014 Maruti Swift Dzire      3,54,799    76,013 km  Diesel   \n",
       "1           1           2015 Tata Nano      1,87,999    39,703 km  Petrol   \n",
       "2           2        2012 Maruti Swift      2,60,099  1,20,326 km  Diesel   \n",
       "3           3        2012 Maruti Swift      2,82,099    68,206 km  Diesel   \n",
       "4           4           2015 Tata Nano      1,85,999    43,402 km  Petrol   \n",
       "\n",
       "  transmission  \n",
       "0       Manual  \n",
       "1       Manual  \n",
       "2       Manual  \n",
       "3       Manual  \n",
       "4       Manual  "
      ]
     },
     "execution_count": 3,
     "metadata": {},
     "output_type": "execute_result"
    }
   ],
   "source": [
    "df.head()"
   ]
  },
  {
   "cell_type": "code",
   "execution_count": 4,
   "id": "e00a8e91",
   "metadata": {},
   "outputs": [
    {
     "data": {
      "text/plain": [
       "(492, 6)"
      ]
     },
     "execution_count": 4,
     "metadata": {},
     "output_type": "execute_result"
    }
   ],
   "source": [
    "df.shape"
   ]
  },
  {
   "cell_type": "markdown",
   "id": "18a4a05d",
   "metadata": {},
   "source": [
    "We have 492 rows and 6 columns in data"
   ]
  },
  {
   "cell_type": "code",
   "execution_count": 5,
   "id": "8ec3c1ec",
   "metadata": {},
   "outputs": [
    {
     "data": {
      "text/plain": [
       "Unnamed: 0       0\n",
       "name             0\n",
       "selling_price    0\n",
       "km_driven        0\n",
       "fuel             0\n",
       "transmission     0\n",
       "dtype: int64"
      ]
     },
     "execution_count": 5,
     "metadata": {},
     "output_type": "execute_result"
    }
   ],
   "source": [
    "df.isnull().sum()"
   ]
  },
  {
   "cell_type": "markdown",
   "id": "5f6b77af",
   "metadata": {},
   "source": [
    "there is no null values in the data"
   ]
  },
  {
   "cell_type": "code",
   "execution_count": 6,
   "id": "fc25ae99",
   "metadata": {},
   "outputs": [
    {
     "name": "stdout",
     "output_type": "stream",
     "text": [
      "<class 'pandas.core.frame.DataFrame'>\n",
      "RangeIndex: 492 entries, 0 to 491\n",
      "Data columns (total 6 columns):\n",
      " #   Column         Non-Null Count  Dtype \n",
      "---  ------         --------------  ----- \n",
      " 0   Unnamed: 0     492 non-null    int64 \n",
      " 1   name           492 non-null    object\n",
      " 2   selling_price  492 non-null    object\n",
      " 3   km_driven      492 non-null    object\n",
      " 4   fuel           492 non-null    object\n",
      " 5   transmission   492 non-null    object\n",
      "dtypes: int64(1), object(5)\n",
      "memory usage: 23.2+ KB\n"
     ]
    }
   ],
   "source": [
    "df.info()"
   ]
  },
  {
   "cell_type": "markdown",
   "id": "60ed01f6",
   "metadata": {},
   "source": [
    "There are 5 object and 1 numerical columns in data"
   ]
  },
  {
   "cell_type": "code",
   "execution_count": 7,
   "id": "9a0c5a3b",
   "metadata": {},
   "outputs": [
    {
     "data": {
      "text/plain": [
       "Diesel    357\n",
       "Petrol    135\n",
       "Name: fuel, dtype: int64"
      ]
     },
     "execution_count": 7,
     "metadata": {},
     "output_type": "execute_result"
    }
   ],
   "source": [
    "df['fuel'].value_counts() # Value counts of Fuel type"
   ]
  },
  {
   "cell_type": "code",
   "execution_count": 8,
   "id": "f1d6598e",
   "metadata": {},
   "outputs": [
    {
     "data": {
      "text/plain": [
       "Manual    492\n",
       "Name: transmission, dtype: int64"
      ]
     },
     "execution_count": 8,
     "metadata": {},
     "output_type": "execute_result"
    }
   ],
   "source": [
    "df['transmission'].value_counts() # Value counts of transmission"
   ]
  },
  {
   "cell_type": "code",
   "execution_count": 9,
   "id": "f36334e7",
   "metadata": {},
   "outputs": [
    {
     "data": {
      "text/html": [
       "<div>\n",
       "<style scoped>\n",
       "    .dataframe tbody tr th:only-of-type {\n",
       "        vertical-align: middle;\n",
       "    }\n",
       "\n",
       "    .dataframe tbody tr th {\n",
       "        vertical-align: top;\n",
       "    }\n",
       "\n",
       "    .dataframe thead th {\n",
       "        text-align: right;\n",
       "    }\n",
       "</style>\n",
       "<table border=\"1\" class=\"dataframe\">\n",
       "  <thead>\n",
       "    <tr style=\"text-align: right;\">\n",
       "      <th></th>\n",
       "      <th>Unnamed: 0</th>\n",
       "    </tr>\n",
       "  </thead>\n",
       "  <tbody>\n",
       "    <tr>\n",
       "      <th>count</th>\n",
       "      <td>492.000000</td>\n",
       "    </tr>\n",
       "    <tr>\n",
       "      <th>mean</th>\n",
       "      <td>245.500000</td>\n",
       "    </tr>\n",
       "    <tr>\n",
       "      <th>std</th>\n",
       "      <td>142.172431</td>\n",
       "    </tr>\n",
       "    <tr>\n",
       "      <th>min</th>\n",
       "      <td>0.000000</td>\n",
       "    </tr>\n",
       "    <tr>\n",
       "      <th>25%</th>\n",
       "      <td>122.750000</td>\n",
       "    </tr>\n",
       "    <tr>\n",
       "      <th>50%</th>\n",
       "      <td>245.500000</td>\n",
       "    </tr>\n",
       "    <tr>\n",
       "      <th>75%</th>\n",
       "      <td>368.250000</td>\n",
       "    </tr>\n",
       "    <tr>\n",
       "      <th>max</th>\n",
       "      <td>491.000000</td>\n",
       "    </tr>\n",
       "  </tbody>\n",
       "</table>\n",
       "</div>"
      ],
      "text/plain": [
       "       Unnamed: 0\n",
       "count  492.000000\n",
       "mean   245.500000\n",
       "std    142.172431\n",
       "min      0.000000\n",
       "25%    122.750000\n",
       "50%    245.500000\n",
       "75%    368.250000\n",
       "max    491.000000"
      ]
     },
     "execution_count": 9,
     "metadata": {},
     "output_type": "execute_result"
    }
   ],
   "source": [
    "df.describe()"
   ]
  },
  {
   "cell_type": "markdown",
   "id": "c324f8f2",
   "metadata": {},
   "source": [
    "### EDA"
   ]
  },
  {
   "cell_type": "code",
   "execution_count": 11,
   "id": "d44ed61c",
   "metadata": {},
   "outputs": [
    {
     "data": {
      "text/plain": [
       "<AxesSubplot:>"
      ]
     },
     "execution_count": 11,
     "metadata": {},
     "output_type": "execute_result"
    },
    {
     "data": {
      "image/png": "[encoded data removed]",
      "text/plain": [
       "<Figure size 432x288 with 2 Axes>"
      ]
     },
     "metadata": {
      "needs_background": "light"
     },
     "output_type": "display_data"
    }
   ],
   "source": [
    "dfcorr=df.corr()\n",
    "sns.heatmap(dfcorr,annot=True, linewidth=1)"
   ]
  },
  {
   "cell_type": "code",
   "execution_count": 12,
   "id": "4cd813ae",
   "metadata": {},
   "outputs": [
    {
     "data": {
      "image/png": "[encoded data removed]",
      "text/plain": [
       "<Figure size 1440x720 with 1 Axes>"
      ]
     },
     "metadata": {
      "needs_background": "light"
     },
     "output_type": "display_data"
    }
   ],
   "source": [
    "df['selling_price'].hist(bins=100,figsize=(20,10),rwidth = 0.75)\n",
    "plt.title('Car Prices')\n",
    "plt.show()"
   ]
  },
  {
   "cell_type": "code",
   "execution_count": 13,
   "id": "64d3590b",
   "metadata": {},
   "outputs": [
    {
     "data": {
      "image/png": "[encoded data removed]",
      "text/plain": [
       "<Figure size 1440x720 with 1 Axes>"
      ]
     },
     "metadata": {
      "needs_background": "light"
     },
     "output_type": "display_data"
    }
   ],
   "source": [
    "df['fuel'].hist(bins=100,figsize=(20,10),rwidth = 0.75)\n",
    "plt.title('Car Prices')\n",
    "plt.show()"
   ]
  },
  {
   "cell_type": "code",
   "execution_count": 14,
   "id": "a2a7b99d",
   "metadata": {},
   "outputs": [
    {
     "data": {
      "image/png": "[encoded data removed]",
      "text/plain": [
       "<Figure size 1440x720 with 1 Axes>"
      ]
     },
     "metadata": {
      "needs_background": "light"
     },
     "output_type": "display_data"
    }
   ],
   "source": [
    "df['transmission'].hist(bins=100,figsize=(20,10),rwidth = 0.75)\n",
    "plt.title('Car Prices')\n",
    "plt.show()"
   ]
  },
  {
   "cell_type": "code",
   "execution_count": 15,
   "id": "f2be34b5",
   "metadata": {},
   "outputs": [
    {
     "data": {
      "image/png": "[encoded data removed]",
      "text/plain": [
       "<Figure size 1440x720 with 1 Axes>"
      ]
     },
     "metadata": {
      "needs_background": "light"
     },
     "output_type": "display_data"
    }
   ],
   "source": [
    "df['km_driven'].hist(bins=100,figsize=(20,10),rwidth = 0.75)\n",
    "plt.title('Car Prices')\n",
    "plt.show()"
   ]
  },
  {
   "cell_type": "markdown",
   "id": "205dc9ce",
   "metadata": {},
   "source": [
    "#### Using LabelEncoder for convering categorical to numerical"
   ]
  },
  {
   "cell_type": "code",
   "execution_count": 16,
   "id": "85130344",
   "metadata": {},
   "outputs": [],
   "source": [
    "from sklearn.preprocessing import LabelEncoder\n",
    "encoder = LabelEncoder()\n",
    "df['name'] = encoder.fit_transform(df['name'])\n",
    "df['selling_price'] = encoder.fit_transform(df['selling_price'])\n",
    "df['km_driven'] = encoder.fit_transform(df['km_driven'])\n",
    "df['fuel'] = encoder.fit_transform(df['fuel'])\n",
    "df['transmission'] = encoder.fit_transform(df['transmission'])"
   ]
  },
  {
   "cell_type": "code",
   "execution_count": 17,
   "id": "d36ecfc1",
   "metadata": {},
   "outputs": [
    {
     "name": "stdout",
     "output_type": "stream",
     "text": [
      "<class 'pandas.core.frame.DataFrame'>\n",
      "RangeIndex: 492 entries, 0 to 491\n",
      "Data columns (total 6 columns):\n",
      " #   Column         Non-Null Count  Dtype\n",
      "---  ------         --------------  -----\n",
      " 0   Unnamed: 0     492 non-null    int64\n",
      " 1   name           492 non-null    int32\n",
      " 2   selling_price  492 non-null    int32\n",
      " 3   km_driven      492 non-null    int32\n",
      " 4   fuel           492 non-null    int32\n",
      " 5   transmission   492 non-null    int32\n",
      "dtypes: int32(5), int64(1)\n",
      "memory usage: 13.6 KB\n"
     ]
    }
   ],
   "source": [
    "df.info()"
   ]
  },
  {
   "cell_type": "markdown",
   "id": "ea498b22",
   "metadata": {},
   "source": [
    "All columns are converted into numerical now"
   ]
  },
  {
   "cell_type": "markdown",
   "id": "6c4ba4b8",
   "metadata": {},
   "source": [
    "#### Dividing data into X and Y"
   ]
  },
  {
   "cell_type": "code",
   "execution_count": 22,
   "id": "d88512e5",
   "metadata": {},
   "outputs": [],
   "source": [
    "x=df.drop(['selling_price',],axis=1)\n",
    "y=df['selling_price']"
   ]
  },
  {
   "cell_type": "code",
   "execution_count": 23,
   "id": "f0c860df",
   "metadata": {},
   "outputs": [
    {
     "data": {
      "text/plain": [
       "(492, 5)"
      ]
     },
     "execution_count": 23,
     "metadata": {},
     "output_type": "execute_result"
    }
   ],
   "source": [
    "x.shape"
   ]
  },
  {
   "cell_type": "code",
   "execution_count": 24,
   "id": "be395f9b",
   "metadata": {},
   "outputs": [
    {
     "data": {
      "text/plain": [
       "(492,)"
      ]
     },
     "execution_count": 24,
     "metadata": {},
     "output_type": "execute_result"
    }
   ],
   "source": [
    "y.shape"
   ]
  },
  {
   "cell_type": "markdown",
   "id": "467436c0",
   "metadata": {},
   "source": [
    "### scaling X values"
   ]
  },
  {
   "cell_type": "code",
   "execution_count": 25,
   "id": "29731f86",
   "metadata": {},
   "outputs": [],
   "source": [
    "from sklearn.preprocessing import MinMaxScaler\n",
    "\n",
    "sc=MinMaxScaler()\n",
    "x=sc.fit_transform(x)\n"
   ]
  },
  {
   "cell_type": "code",
   "execution_count": 26,
   "id": "1aa25646",
   "metadata": {},
   "outputs": [
    {
     "data": {
      "text/plain": [
       "0    0\n",
       "1    0\n",
       "2    0\n",
       "3    0\n",
       "4    0\n",
       "dtype: int64"
      ]
     },
     "execution_count": 26,
     "metadata": {},
     "output_type": "execute_result"
    }
   ],
   "source": [
    "pd.DataFrame(x).isnull().sum()"
   ]
  },
  {
   "cell_type": "code",
   "execution_count": 27,
   "id": "c08c2a9b",
   "metadata": {},
   "outputs": [
    {
     "data": {
      "text/html": [
       "<div>\n",
       "<style scoped>\n",
       "    .dataframe tbody tr th:only-of-type {\n",
       "        vertical-align: middle;\n",
       "    }\n",
       "\n",
       "    .dataframe tbody tr th {\n",
       "        vertical-align: top;\n",
       "    }\n",
       "\n",
       "    .dataframe thead th {\n",
       "        text-align: right;\n",
       "    }\n",
       "</style>\n",
       "<table border=\"1\" class=\"dataframe\">\n",
       "  <thead>\n",
       "    <tr style=\"text-align: right;\">\n",
       "      <th></th>\n",
       "      <th>0</th>\n",
       "      <th>1</th>\n",
       "      <th>2</th>\n",
       "      <th>3</th>\n",
       "      <th>4</th>\n",
       "    </tr>\n",
       "  </thead>\n",
       "  <tbody>\n",
       "    <tr>\n",
       "      <th>count</th>\n",
       "      <td>492.000000</td>\n",
       "      <td>492.000000</td>\n",
       "      <td>492.000000</td>\n",
       "      <td>492.000000</td>\n",
       "      <td>492.0</td>\n",
       "    </tr>\n",
       "    <tr>\n",
       "      <th>mean</th>\n",
       "      <td>0.500000</td>\n",
       "      <td>0.489126</td>\n",
       "      <td>0.500590</td>\n",
       "      <td>0.274390</td>\n",
       "      <td>0.0</td>\n",
       "    </tr>\n",
       "    <tr>\n",
       "      <th>std</th>\n",
       "      <td>0.289557</td>\n",
       "      <td>0.307474</td>\n",
       "      <td>0.292714</td>\n",
       "      <td>0.446661</td>\n",
       "      <td>0.0</td>\n",
       "    </tr>\n",
       "    <tr>\n",
       "      <th>min</th>\n",
       "      <td>0.000000</td>\n",
       "      <td>0.000000</td>\n",
       "      <td>0.000000</td>\n",
       "      <td>0.000000</td>\n",
       "      <td>0.0</td>\n",
       "    </tr>\n",
       "    <tr>\n",
       "      <th>25%</th>\n",
       "      <td>0.250000</td>\n",
       "      <td>0.250000</td>\n",
       "      <td>0.225806</td>\n",
       "      <td>0.000000</td>\n",
       "      <td>0.0</td>\n",
       "    </tr>\n",
       "    <tr>\n",
       "      <th>50%</th>\n",
       "      <td>0.500000</td>\n",
       "      <td>0.500000</td>\n",
       "      <td>0.516129</td>\n",
       "      <td>0.000000</td>\n",
       "      <td>0.0</td>\n",
       "    </tr>\n",
       "    <tr>\n",
       "      <th>75%</th>\n",
       "      <td>0.750000</td>\n",
       "      <td>0.750000</td>\n",
       "      <td>0.741935</td>\n",
       "      <td>1.000000</td>\n",
       "      <td>0.0</td>\n",
       "    </tr>\n",
       "    <tr>\n",
       "      <th>max</th>\n",
       "      <td>1.000000</td>\n",
       "      <td>1.000000</td>\n",
       "      <td>1.000000</td>\n",
       "      <td>1.000000</td>\n",
       "      <td>0.0</td>\n",
       "    </tr>\n",
       "  </tbody>\n",
       "</table>\n",
       "</div>"
      ],
      "text/plain": [
       "                0           1           2           3      4\n",
       "count  492.000000  492.000000  492.000000  492.000000  492.0\n",
       "mean     0.500000    0.489126    0.500590    0.274390    0.0\n",
       "std      0.289557    0.307474    0.292714    0.446661    0.0\n",
       "min      0.000000    0.000000    0.000000    0.000000    0.0\n",
       "25%      0.250000    0.250000    0.225806    0.000000    0.0\n",
       "50%      0.500000    0.500000    0.516129    0.000000    0.0\n",
       "75%      0.750000    0.750000    0.741935    1.000000    0.0\n",
       "max      1.000000    1.000000    1.000000    1.000000    0.0"
      ]
     },
     "execution_count": 27,
     "metadata": {},
     "output_type": "execute_result"
    }
   ],
   "source": [
    "pd.DataFrame(x).describe()"
   ]
  },
  {
   "cell_type": "markdown",
   "id": "ff0255a8",
   "metadata": {},
   "source": [
    "data have been scalled"
   ]
  },
  {
   "cell_type": "code",
   "execution_count": 28,
   "id": "2af22888",
   "metadata": {},
   "outputs": [],
   "source": [
    "from sklearn.model_selection import train_test_split"
   ]
  },
  {
   "cell_type": "code",
   "execution_count": 29,
   "id": "59faa206",
   "metadata": {},
   "outputs": [],
   "source": [
    "x_train,x_test,y_train,y_test=train_test_split(x,y,test_size=.27,random_state=42)"
   ]
  },
  {
   "cell_type": "code",
   "execution_count": 30,
   "id": "ac4d1d6b",
   "metadata": {},
   "outputs": [
    {
     "data": {
      "text/plain": [
       "(359, 5)"
      ]
     },
     "execution_count": 30,
     "metadata": {},
     "output_type": "execute_result"
    }
   ],
   "source": [
    "x_train.shape"
   ]
  },
  {
   "cell_type": "code",
   "execution_count": 31,
   "id": "6dfed884",
   "metadata": {},
   "outputs": [
    {
     "data": {
      "text/plain": [
       "(133, 5)"
      ]
     },
     "execution_count": 31,
     "metadata": {},
     "output_type": "execute_result"
    }
   ],
   "source": [
    "x_test.shape"
   ]
  },
  {
   "cell_type": "code",
   "execution_count": 32,
   "id": "96299f5e",
   "metadata": {},
   "outputs": [
    {
     "data": {
      "text/plain": [
       "(359,)"
      ]
     },
     "execution_count": 32,
     "metadata": {},
     "output_type": "execute_result"
    }
   ],
   "source": [
    "y_train.shape"
   ]
  },
  {
   "cell_type": "code",
   "execution_count": 33,
   "id": "1cfeb9ac",
   "metadata": {},
   "outputs": [
    {
     "data": {
      "text/plain": [
       "(133,)"
      ]
     },
     "execution_count": 33,
     "metadata": {},
     "output_type": "execute_result"
    }
   ],
   "source": [
    "y_test.shape"
   ]
  },
  {
   "cell_type": "markdown",
   "id": "fbc09edd",
   "metadata": {},
   "source": [
    "### Model building"
   ]
  },
  {
   "cell_type": "code",
   "execution_count": 34,
   "id": "50b1361a",
   "metadata": {},
   "outputs": [],
   "source": [
    "from sklearn.linear_model import LinearRegression\n",
    "from sklearn.metrics import mean_squared_error,mean_absolute_error\n",
    "from sklearn.metrics import r2_score\n",
    "from sklearn.model_selection import train_test_split\n",
    "from sklearn.model_selection import cross_val_score\n",
    "import warnings\n",
    "warnings.filterwarnings('ignore')"
   ]
  },
  {
   "cell_type": "markdown",
   "id": "b94bc5e8",
   "metadata": {},
   "source": [
    "### RandomForestRegressor"
   ]
  },
  {
   "cell_type": "code",
   "execution_count": 35,
   "id": "7e542f7b",
   "metadata": {},
   "outputs": [
    {
     "name": "stdout",
     "output_type": "stream",
     "text": [
      "0.999977270955329\n"
     ]
    }
   ],
   "source": [
    "from sklearn.ensemble import RandomForestRegressor\n",
    "\n",
    "RF=RandomForestRegressor()\n",
    "RF.fit(x_train,y_train)\n",
    "print(RF.score(x_train,y_train))\n",
    "RF_PRED=RF.predict(x_test)"
   ]
  },
  {
   "cell_type": "code",
   "execution_count": 36,
   "id": "d043af24",
   "metadata": {},
   "outputs": [
    {
     "name": "stdout",
     "output_type": "stream",
     "text": [
      "MSE: 0.003425563909774441\n",
      "MAE: 0.016691729323308296\n",
      "r2_score: 0.9999609949397191\n"
     ]
    }
   ],
   "source": [
    "print('MSE:',mean_squared_error(RF_PRED,y_test))\n",
    "print('MAE:',mean_absolute_error(RF_PRED,y_test))\n",
    "print('r2_score:',r2_score(RF_PRED,y_test))"
   ]
  },
  {
   "cell_type": "markdown",
   "id": "9ee27ddd",
   "metadata": {},
   "source": [
    "### DECISION TREE CLASSIFIER"
   ]
  },
  {
   "cell_type": "code",
   "execution_count": 37,
   "id": "08651a0c",
   "metadata": {},
   "outputs": [
    {
     "name": "stdout",
     "output_type": "stream",
     "text": [
      "1.0\n"
     ]
    }
   ],
   "source": [
    "from sklearn.tree import DecisionTreeRegressor\n",
    "\n",
    "DTR=DecisionTreeRegressor()\n",
    "DTR.fit(x_train,y_train)\n",
    "print(DTR.score(x_train,y_train))\n",
    "DTR_PRED=DTR.predict(x_test)\n"
   ]
  },
  {
   "cell_type": "code",
   "execution_count": 38,
   "id": "6a0442db",
   "metadata": {},
   "outputs": [
    {
     "name": "stdout",
     "output_type": "stream",
     "text": [
      "MSE: 0.0\n",
      "MAE: 0.0\n",
      "r2_score: 1.0\n"
     ]
    }
   ],
   "source": [
    "print('MSE:',mean_squared_error(DTR_PRED,y_test))\n",
    "print('MAE:',mean_absolute_error(DTR_PRED,y_test))\n",
    "print('r2_score:',r2_score(DTR_PRED,y_test))"
   ]
  },
  {
   "cell_type": "markdown",
   "id": "19aab452",
   "metadata": {},
   "source": [
    "### GradientBoostingRegressor"
   ]
  },
  {
   "cell_type": "code",
   "execution_count": 39,
   "id": "a765ece6",
   "metadata": {},
   "outputs": [
    {
     "name": "stdout",
     "output_type": "stream",
     "text": [
      "0.9943160093391233\n"
     ]
    }
   ],
   "source": [
    "from sklearn.ensemble import GradientBoostingRegressor\n",
    "\n",
    "GBR=GradientBoostingRegressor()\n",
    "GBR.fit(x_train,y_train)\n",
    "print(GBR.score(x_train,y_train))\n",
    "GBR_PRED=GBR.predict(x_test)"
   ]
  },
  {
   "cell_type": "code",
   "execution_count": 40,
   "id": "942523fe",
   "metadata": {},
   "outputs": [
    {
     "name": "stdout",
     "output_type": "stream",
     "text": [
      "MSE: 0.4058156986432549\n",
      "MAE: 0.46788076456927175\n",
      "r2_score: 0.9951320283288855\n"
     ]
    }
   ],
   "source": [
    "print('MSE:',mean_squared_error(GBR_PRED,y_test))\n",
    "print('MAE:',mean_absolute_error(GBR_PRED,y_test))\n",
    "print('r2_score:',r2_score(GBR_PRED,y_test))"
   ]
  },
  {
   "cell_type": "markdown",
   "id": "8eb5fea6",
   "metadata": {},
   "source": [
    "##### cross validation"
   ]
  },
  {
   "cell_type": "code",
   "execution_count": 41,
   "id": "11da039f",
   "metadata": {},
   "outputs": [
    {
     "name": "stdout",
     "output_type": "stream",
     "text": [
      "LR    : 43.601322, 5.531716\n",
      "RF    : 0.004419, 0.006596\n",
      "DTR    : 0.000000, 0.000000\n",
      "GBR    : 0.482798, 0.119196\n"
     ]
    }
   ],
   "source": [
    "from sklearn.model_selection import cross_val_score\n",
    "\n",
    "np.random.seed(10)\n",
    "def rmse_cv(model, x,y):\n",
    "    rmse =- (cross_val_score(model, x,y, scoring='neg_mean_squared_error', cv=10))\n",
    "    return(rmse)\n",
    "\n",
    "\n",
    "models = [LinearRegression(),\n",
    "            \n",
    "             RandomForestRegressor(),\n",
    "             DecisionTreeRegressor(),  \n",
    "             GradientBoostingRegressor(),]\n",
    "            \n",
    "\n",
    "\n",
    "names = ['LR','RF','DTR','GBR']\n",
    "\n",
    "for model,name in zip(models,names):\n",
    "    score = rmse_cv(model,x,y)\n",
    "    print(\"{}    : {:.6f}, {:4f}\".format(name,score.mean(),score.std()))"
   ]
  },
  {
   "cell_type": "markdown",
   "id": "f08a8ca4",
   "metadata": {},
   "source": [
    "Accourding to all metrics score selecting the Random Forest Regression as for GridSeachCV"
   ]
  },
  {
   "cell_type": "markdown",
   "id": "38e86406",
   "metadata": {},
   "source": [
    "#### HYPER PARAMETER TUNING:\n",
    "GridSearchCV"
   ]
  },
  {
   "cell_type": "code",
   "execution_count": 42,
   "id": "8cb1b45c",
   "metadata": {},
   "outputs": [],
   "source": [
    "from sklearn.model_selection import GridSearchCV\n",
    "parameters = { 'n_estimators' : [100,150],\n",
    "               'min_samples_leaf' : [1,2], \n",
    "              'min_samples_split': [2,3],\n",
    "              'criterion': ['mse','mae']\n",
    "}"
   ]
  },
  {
   "cell_type": "code",
   "execution_count": 43,
   "id": "6ea25e8a",
   "metadata": {},
   "outputs": [],
   "source": [
    "GCV = GridSearchCV(RandomForestRegressor(),parameters,cv=5)"
   ]
  },
  {
   "cell_type": "code",
   "execution_count": 44,
   "id": "41c09f3f",
   "metadata": {},
   "outputs": [
    {
     "data": {
      "text/plain": [
       "GridSearchCV(cv=5, estimator=RandomForestRegressor(),\n",
       "             param_grid={'criterion': ['mse', 'mae'],\n",
       "                         'min_samples_leaf': [1, 2],\n",
       "                         'min_samples_split': [2, 3],\n",
       "                         'n_estimators': [100, 150]})"
      ]
     },
     "execution_count": 44,
     "metadata": {},
     "output_type": "execute_result"
    }
   ],
   "source": [
    "GCV.fit(x_train,y_train)"
   ]
  },
  {
   "cell_type": "code",
   "execution_count": 45,
   "id": "901fe0df",
   "metadata": {},
   "outputs": [
    {
     "data": {
      "text/plain": [
       "{'criterion': 'mse',\n",
       " 'min_samples_leaf': 1,\n",
       " 'min_samples_split': 3,\n",
       " 'n_estimators': 150}"
      ]
     },
     "execution_count": 45,
     "metadata": {},
     "output_type": "execute_result"
    }
   ],
   "source": [
    "GCV.best_params_"
   ]
  },
  {
   "cell_type": "code",
   "execution_count": 46,
   "id": "5a4d31d2",
   "metadata": {},
   "outputs": [
    {
     "data": {
      "text/plain": [
       "0.9999781020300708"
      ]
     },
     "execution_count": 46,
     "metadata": {},
     "output_type": "execute_result"
    }
   ],
   "source": [
    "mod = RandomForestRegressor(min_samples_leaf= 1, min_samples_split =2, n_estimators = 150, criterion='mse')\n",
    "mod.fit(x_train,y_train)\n",
    "pred = mod.predict(x_test)\n",
    "mod.score(x_test,y_test)"
   ]
  },
  {
   "cell_type": "code",
   "execution_count": 47,
   "id": "0aba3ee7",
   "metadata": {},
   "outputs": [
    {
     "name": "stdout",
     "output_type": "stream",
     "text": [
      "0.9999361275609154\n"
     ]
    }
   ],
   "source": [
    "scr = cross_val_score(mod, x,y, cv=4)\n",
    "print(scr.mean())"
   ]
  },
  {
   "cell_type": "code",
   "execution_count": 51,
   "id": "3dfab51f",
   "metadata": {},
   "outputs": [
    {
     "data": {
      "image/png": "[encoded data removed]",
      "text/plain": [
       "<Figure size 576x576 with 1 Axes>"
      ]
     },
     "metadata": {
      "needs_background": "light"
     },
     "output_type": "display_data"
    }
   ],
   "source": [
    "plt.figure(figsize=(8,8))\n",
    "plt.scatter(y_test, pred)\n",
    "plt.xlabel(\"Actual value of car\")\n",
    "plt.ylabel(\"Predicted value of car\")\n",
    "plt.ticklabel_format(style='plain', axis='y')\n",
    "plt.ticklabel_format(style='plain', axis='x')"
   ]
  },
  {
   "cell_type": "markdown",
   "id": "0d29bf12",
   "metadata": {},
   "source": [
    "#### saving the model"
   ]
  },
  {
   "cell_type": "code",
   "execution_count": 49,
   "id": "e962113f",
   "metadata": {},
   "outputs": [
    {
     "data": {
      "text/plain": [
       "['car_price_prediction.obj']"
      ]
     },
     "execution_count": 49,
     "metadata": {},
     "output_type": "execute_result"
    }
   ],
   "source": [
    "import joblib\n",
    "joblib.dump(GCV,'car_price_prediction.obj')"
   ]
  },
  {
   "cell_type": "code",
   "execution_count": null,
   "id": "f7c53438",
   "metadata": {},
   "outputs": [],
   "source": []
  }
 ],
 "metadata": {
  "kernelspec": {
   "display_name": "Python 3",
   "language": "python",
   "name": "python3"
  },
  "language_info": {
   "codemirror_mode": {
    "name": "ipython",
    "version": 3
   },
   "file_extension": ".py",
   "mimetype": "text/x-python",
   "name": "python",
   "nbconvert_exporter": "python",
   "pygments_lexer": "ipython3",
   "version": "3.8.8"
  }
 },
 "nbformat": 4,
 "nbformat_minor": 5
}
